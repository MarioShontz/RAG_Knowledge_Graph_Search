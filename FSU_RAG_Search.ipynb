{
 "cells": [
  {
   "attachments": {
    "c99493ef-b153-4d79-a795-b4dc7d6f59e4.png": {
     "image/png": "[encoded data removed]"
    }
   },
   "cell_type": "markdown",
   "id": "611f3f71-6411-4618-b26b-6527d3399009",
   "metadata": {
    "tags": []
   },
   "source": [
    "# Knowledge-Graph-Based Retrieval Augmented Generation for FSU Search\n",
    "\n",
    "#### The problem\n",
    "The search functionality on fsu.edu sites is fragmented and cumbersome. Its functionality reflects none of the recent advancements in natural language processing - specifically, Large Language Models and the ability to intelligently and naturally respond to queries.\n",
    "\n",
    "![image.png](attachment:c99493ef-b153-4d79-a795-b4dc7d6f59e4.png)\n",
    "\n",
    "We seek to do two main modifications:\n",
    "1. combine these searches into one, providing only an option to limit to the current site.\n",
    "2. Wield the power of Large Language Models to allow for conversational or question/answer capability using direct information from FSU's databases and websites.\n",
    "\n",
    "It is with these requirements that we present a possible solution:\n",
    "**Combining the power of knowledge graphs, a powerful way to represent relational data, and Retrieval Augmented Generation (RAG), a technique for informing Language Models with real data, we can make a powerful pairing that allows for users to get information about FSU faculty, staff, departments, buildings, events, classes, and more.**\n",
    "\n",
    "let's explore how we do this."
   ]
  },
  {
   "cell_type": "markdown",
   "id": "8436ee16-de6d-4990-96d7-3a3b37d6cc92",
   "metadata": {
    "tags": []
   },
   "source": [
    "#### Making the knowledge graph"
   ]
  },
  {
   "cell_type": "code",
   "execution_count": 3,
   "id": "d511cde2-c45e-494d-8237-d7612f9a1cb0",
   "metadata": {
    "jupyter": {
     "source_hidden": true
    },
    "tags": []
   },
   "outputs": [
    {
     "name": "stdout",
     "output_type": "stream",
     "text": [
      "Note: you may need to restart the kernel to use updated packages.\n"
     ]
    }
   ],
   "source": [
    "%pip install --upgrade --quiet  langchain langchain-community langchain-openai langchain-experimental neo4j wikipedia tiktoken yfiles_jupyter_graphs pandas"
   ]
  },
  {
   "cell_type": "code",
   "execution_count": 4,
   "id": "6e4a5f77-279a-467e-baf6-e6235cc55eef",
   "metadata": {
    "tags": []
   },
   "outputs": [],
   "source": [
    "from dotenv import load_dotenv\n",
    "import os\n",
    "\n",
    "from langchain_community.graphs import Neo4jGraph\n",
    "\n",
    "# Warning control\n",
    "import warnings\n",
    "warnings.filterwarnings(\"ignore\")"
   ]
  },
  {
   "cell_type": "markdown",
   "id": "68884da6-ecb6-4a96-9180-217227a9d355",
   "metadata": {
    "tags": []
   },
   "source": [
    "##### Reading in Faculty and Staff Data"
   ]
  },
  {
   "cell_type": "code",
   "execution_count": 5,
   "id": "4dc18167-e6de-44fc-9bf2-36bcada3d4e3",
   "metadata": {
    "tags": []
   },
   "outputs": [],
   "source": [
    "# Load from environment\n",
    "load_dotenv('.env', override=True)\n",
    "NEO4J_URI = os.getenv('NEO4J_URI')\n",
    "NEO4J_USERNAME = os.getenv('NEO4J_USERNAME')\n",
    "NEO4J_PASSWORD = os.getenv('NEO4J_PASSWORD')\n",
    "# NEO4J_DATABASE = os.getenv('AURA_INSTANCEID')\n",
    "OPENAI_API_KEY = os.getenv('OPENAI_API_KEY')"
   ]
  },
  {
   "cell_type": "markdown",
   "id": "d2d32019-3e40-4b1a-9fcd-d8fe04701bcf",
   "metadata": {
    "tags": []
   },
   "source": [
    "##### Initializing the Knowledge Graph"
   ]
  },
  {
   "cell_type": "code",
   "execution_count": 6,
   "id": "0972c593-8de3-4c31-b9cd-1bef6f1d9fe3",
   "metadata": {
    "tags": []
   },
   "outputs": [],
   "source": [
    "# Connect to the knowledge graph instance using LangChain\n",
    "kg = Neo4jGraph(\n",
    "    url=NEO4J_URI, username=NEO4J_USERNAME, password=NEO4J_PASSWORD)"
   ]
  },
  {
   "cell_type": "markdown",
   "id": "59deb430-b5c6-4257-8ba5-3dd41ec19be2",
   "metadata": {
    "tags": []
   },
   "source": [
    "##### Reading in Departments and Services Data"
   ]
  },
  {
   "cell_type": "code",
   "execution_count": 7,
   "id": "19bb7089-6731-4d31-a5a1-cef32f1628e6",
   "metadata": {
    "tags": []
   },
   "outputs": [],
   "source": [
    "# with open(\"data/Dept_Address_URL.csv\") as depts:\n",
    "#     for i,dept in enumerate(depts):\n",
    "#         if i == 0 or i == 1:\n",
    "#             print(dept)\n",
    "#         else:\n",
    "#             pass\n",
    "        \n",
    "# with open(\"data/Fac and Staff Directory.csv\") as fsd:\n",
    "#     for i,fs in enumerate(fsd):\n",
    "#         if i == 0 or i == 1:\n",
    "#             print(fs)\n",
    "#         else:\n",
    "#             pass\n",
    "# #Use with open() instead\n",
    "# # depts = pd.read_csv(\"data/Dept_Address_URL.csv\")\n",
    "# # fac_staff = pd.read_csv(\"data/Fac and Staff Directory.csv\")"
   ]
  },
  {
   "cell_type": "markdown",
   "id": "bf45bc2c-ff89-4dd9-8d47-e95d61618a1a",
   "metadata": {
    "tags": []
   },
   "source": [
    "##### Crawling FSU Websites"
   ]
  },
  {
   "cell_type": "code",
   "execution_count": 8,
   "id": "839a8622-8851-4b93-b876-61957976f844",
   "metadata": {
    "tags": []
   },
   "outputs": [],
   "source": [
    "import ScrapingUtils as SU"
   ]
  },
  {
   "cell_type": "code",
   "execution_count": null,
   "id": "52f54caf-8300-4381-a923-7ffb444e7f70",
   "metadata": {
    "tags": []
   },
   "outputs": [],
   "source": []
  },
  {
   "cell_type": "markdown",
   "id": "e1d27b52-2fe5-4b49-9d4a-bd68ec968a74",
   "metadata": {
    "tags": []
   },
   "source": [
    "##### Updating Knowledge Graph"
   ]
  },
  {
   "cell_type": "code",
   "execution_count": null,
   "id": "7b93c7f0-f17d-4745-aadb-0cf9af976989",
   "metadata": {
    "tags": []
   },
   "outputs": [],
   "source": [
    "kg.query(\"\"\"\n",
    "  CREATE VECTOR INDEX movie_tagline_embeddings IF NOT EXISTS\n",
    "  FOR (m:Movie) ON (m.taglineEmbedding) \n",
    "  OPTIONS { indexConfig: {\n",
    "    `vector.dimensions`: 1536,\n",
    "    `vector.similarity_function`: 'cosine'\n",
    "  }}\"\"\"\n",
    ")\n",
    "\n",
    "kg.query(\"\"\"\n",
    "  SHOW VECTOR INDEXES\n",
    "  \"\"\"\n",
    ")"
   ]
  },
  {
   "cell_type": "markdown",
   "id": "7ff8268f-a821-4dd7-9b45-49f722347f79",
   "metadata": {
    "tags": []
   },
   "source": [
    "#### Retrieval"
   ]
  },
  {
   "cell_type": "code",
   "execution_count": null,
   "id": "d9112a83-9754-479a-9516-6794d9ee5ace",
   "metadata": {
    "tags": []
   },
   "outputs": [],
   "source": [
    "kg.query(\"\"\"\n",
    "    MATCH (movie:Movie) WHERE movie.tagline IS NOT NULL\n",
    "    WITH movie, genai.vector.encode(\n",
    "        movie.tagline, \n",
    "        \"OpenAI\", \n",
    "        {\n",
    "          token: $openAiApiKey,\n",
    "          endpoint: $openAiEndpoint\n",
    "        }) AS vector\n",
    "    CALL db.create.setNodeVectorProperty(movie, \"taglineEmbedding\", vector)\n",
    "    \"\"\", \n",
    "    params={\"openAiApiKey\":OPENAI_API_KEY, \"openAiEndpoint\": OPENAI_ENDPOINT} )\n",
    "\n",
    "result = kg.query(\"\"\"\n",
    "    MATCH (m:Movie) \n",
    "    WHERE m.tagline IS NOT NULL\n",
    "    RETURN m.tagline, m.taglineEmbedding\n",
    "    LIMIT 1\n",
    "    \"\"\"\n",
    ")"
   ]
  },
  {
   "cell_type": "markdown",
   "id": "db9001a9-3c0b-49fa-a372-7a184325dbff",
   "metadata": {
    "tags": []
   },
   "source": [
    "#### Feeding into a language model"
   ]
  },
  {
   "cell_type": "code",
   "execution_count": null,
   "id": "a16f5ebf-3388-4537-a018-df384d1cb16a",
   "metadata": {
    "tags": []
   },
   "outputs": [],
   "source": []
  },
  {
   "cell_type": "markdown",
   "id": "968ca827-11af-4bc4-a021-92f1aae35ab5",
   "metadata": {
    "tags": []
   },
   "source": [
    "#### Question and answer"
   ]
  },
  {
   "cell_type": "code",
   "execution_count": null,
   "id": "3230c459-00fd-4cec-a533-6f95b2d822ca",
   "metadata": {
    "tags": []
   },
   "outputs": [],
   "source": [
    "question = \"What movies are about love?\""
   ]
  },
  {
   "cell_type": "code",
   "execution_count": null,
   "id": "0c31ae81-4b8f-4f7e-a2bb-db1282ef378b",
   "metadata": {},
   "outputs": [],
   "source": [
    "kg.query(\"\"\"\n",
    "    WITH genai.vector.encode(\n",
    "        $question, \n",
    "        \"OpenAI\", \n",
    "        {\n",
    "          token: $openAiApiKey,\n",
    "          endpoint: $openAiEndpoint\n",
    "        }) AS question_embedding\n",
    "    CALL db.index.vector.queryNodes(\n",
    "        'movie_tagline_embeddings', \n",
    "        $top_k, \n",
    "        question_embedding\n",
    "        ) YIELD node AS movie, score\n",
    "    RETURN movie.title, movie.tagline, score\n",
    "    \"\"\", \n",
    "    params={\"openAiApiKey\":OPENAI_API_KEY,\n",
    "            \"openAiEndpoint\": OPENAI_ENDPOINT,\n",
    "            \"question\": question,\n",
    "            \"top_k\": 5\n",
    "            })"
   ]
  },
  {
   "cell_type": "code",
   "execution_count": null,
   "id": "f4b44fdc-57d3-43e4-b903-38e1b6095a74",
   "metadata": {},
   "outputs": [],
   "source": []
  },
  {
   "cell_type": "code",
   "execution_count": null,
   "id": "5fd7b2e4-f2ad-4daf-9312-3ca80b09e2f0",
   "metadata": {},
   "outputs": [],
   "source": []
  },
  {
   "cell_type": "code",
   "execution_count": null,
   "id": "982a5b81-2f0e-4235-9f2c-ee3b5ddc5192",
   "metadata": {},
   "outputs": [],
   "source": []
  }
 ],
 "metadata": {
  "kernelspec": {
   "display_name": "fsu_vector_search_env",
   "language": "python",
   "name": "fsu_vector_search_env"
  },
  "language_info": {
   "codemirror_mode": {
    "name": "ipython",
    "version": 3
   },
   "file_extension": ".py",
   "mimetype": "text/x-python",
   "name": "python",
   "nbconvert_exporter": "python",
   "pygments_lexer": "ipython3",
   "version": "3.12.2"
  }
 },
 "nbformat": 4,
 "nbformat_minor": 5
}
